{
 "cells": [
  {
   "cell_type": "code",
   "execution_count": 49,
   "id": "8ffd77e5",
   "metadata": {},
   "outputs": [],
   "source": [
    "import numpy as np\n",
    "import pandas as pd\n"
   ]
  },
  {
   "cell_type": "code",
   "execution_count": 50,
   "id": "89996fac",
   "metadata": {},
   "outputs": [
    {
     "data": {
      "text/plain": [
       "'1.19.5'"
      ]
     },
     "execution_count": 50,
     "metadata": {},
     "output_type": "execute_result"
    }
   ],
   "source": [
    "np.__version__"
   ]
  },
  {
   "cell_type": "code",
   "execution_count": 51,
   "id": "03da5b8e",
   "metadata": {
    "scrolled": true
   },
   "outputs": [
    {
     "name": "stdout",
     "output_type": "stream",
     "text": [
      "1.19.5\n"
     ]
    }
   ],
   "source": [
    "print (np.__version__) #question 1"
   ]
  },
  {
   "cell_type": "code",
   "execution_count": 52,
   "id": "9ffcc0b4",
   "metadata": {},
   "outputs": [
    {
     "name": "stdout",
     "output_type": "stream",
     "text": [
      "1.3.1\n"
     ]
    }
   ],
   "source": [
    "print(pd.__version__) #question 2"
   ]
  },
  {
   "cell_type": "code",
   "execution_count": 53,
   "id": "a8a29ecd",
   "metadata": {},
   "outputs": [
    {
     "data": {
      "text/html": [
       "<div>\n",
       "<style scoped>\n",
       "    .dataframe tbody tr th:only-of-type {\n",
       "        vertical-align: middle;\n",
       "    }\n",
       "\n",
       "    .dataframe tbody tr th {\n",
       "        vertical-align: top;\n",
       "    }\n",
       "\n",
       "    .dataframe thead th {\n",
       "        text-align: right;\n",
       "    }\n",
       "</style>\n",
       "<table border=\"1\" class=\"dataframe\">\n",
       "  <thead>\n",
       "    <tr style=\"text-align: right;\">\n",
       "      <th></th>\n",
       "      <th>Make</th>\n",
       "      <th>Model</th>\n",
       "      <th>Year</th>\n",
       "      <th>Engine Fuel Type</th>\n",
       "      <th>Engine HP</th>\n",
       "      <th>Engine Cylinders</th>\n",
       "      <th>Transmission Type</th>\n",
       "      <th>Driven_Wheels</th>\n",
       "      <th>Number of Doors</th>\n",
       "      <th>Market Category</th>\n",
       "      <th>Vehicle Size</th>\n",
       "      <th>Vehicle Style</th>\n",
       "      <th>highway MPG</th>\n",
       "      <th>city mpg</th>\n",
       "      <th>Popularity</th>\n",
       "      <th>MSRP</th>\n",
       "    </tr>\n",
       "  </thead>\n",
       "  <tbody>\n",
       "    <tr>\n",
       "      <th>0</th>\n",
       "      <td>BMW</td>\n",
       "      <td>1 Series M</td>\n",
       "      <td>2011</td>\n",
       "      <td>premium unleaded (required)</td>\n",
       "      <td>335.0</td>\n",
       "      <td>6.0</td>\n",
       "      <td>MANUAL</td>\n",
       "      <td>rear wheel drive</td>\n",
       "      <td>2.0</td>\n",
       "      <td>Factory Tuner,Luxury,High-Performance</td>\n",
       "      <td>Compact</td>\n",
       "      <td>Coupe</td>\n",
       "      <td>26</td>\n",
       "      <td>19</td>\n",
       "      <td>3916</td>\n",
       "      <td>46135</td>\n",
       "    </tr>\n",
       "    <tr>\n",
       "      <th>1</th>\n",
       "      <td>BMW</td>\n",
       "      <td>1 Series</td>\n",
       "      <td>2011</td>\n",
       "      <td>premium unleaded (required)</td>\n",
       "      <td>300.0</td>\n",
       "      <td>6.0</td>\n",
       "      <td>MANUAL</td>\n",
       "      <td>rear wheel drive</td>\n",
       "      <td>2.0</td>\n",
       "      <td>Luxury,Performance</td>\n",
       "      <td>Compact</td>\n",
       "      <td>Convertible</td>\n",
       "      <td>28</td>\n",
       "      <td>19</td>\n",
       "      <td>3916</td>\n",
       "      <td>40650</td>\n",
       "    </tr>\n",
       "    <tr>\n",
       "      <th>2</th>\n",
       "      <td>BMW</td>\n",
       "      <td>1 Series</td>\n",
       "      <td>2011</td>\n",
       "      <td>premium unleaded (required)</td>\n",
       "      <td>300.0</td>\n",
       "      <td>6.0</td>\n",
       "      <td>MANUAL</td>\n",
       "      <td>rear wheel drive</td>\n",
       "      <td>2.0</td>\n",
       "      <td>Luxury,High-Performance</td>\n",
       "      <td>Compact</td>\n",
       "      <td>Coupe</td>\n",
       "      <td>28</td>\n",
       "      <td>20</td>\n",
       "      <td>3916</td>\n",
       "      <td>36350</td>\n",
       "    </tr>\n",
       "    <tr>\n",
       "      <th>3</th>\n",
       "      <td>BMW</td>\n",
       "      <td>1 Series</td>\n",
       "      <td>2011</td>\n",
       "      <td>premium unleaded (required)</td>\n",
       "      <td>230.0</td>\n",
       "      <td>6.0</td>\n",
       "      <td>MANUAL</td>\n",
       "      <td>rear wheel drive</td>\n",
       "      <td>2.0</td>\n",
       "      <td>Luxury,Performance</td>\n",
       "      <td>Compact</td>\n",
       "      <td>Coupe</td>\n",
       "      <td>28</td>\n",
       "      <td>18</td>\n",
       "      <td>3916</td>\n",
       "      <td>29450</td>\n",
       "    </tr>\n",
       "    <tr>\n",
       "      <th>4</th>\n",
       "      <td>BMW</td>\n",
       "      <td>1 Series</td>\n",
       "      <td>2011</td>\n",
       "      <td>premium unleaded (required)</td>\n",
       "      <td>230.0</td>\n",
       "      <td>6.0</td>\n",
       "      <td>MANUAL</td>\n",
       "      <td>rear wheel drive</td>\n",
       "      <td>2.0</td>\n",
       "      <td>Luxury</td>\n",
       "      <td>Compact</td>\n",
       "      <td>Convertible</td>\n",
       "      <td>28</td>\n",
       "      <td>18</td>\n",
       "      <td>3916</td>\n",
       "      <td>34500</td>\n",
       "    </tr>\n",
       "  </tbody>\n",
       "</table>\n",
       "</div>"
      ],
      "text/plain": [
       "  Make       Model  Year             Engine Fuel Type  Engine HP  \\\n",
       "0  BMW  1 Series M  2011  premium unleaded (required)      335.0   \n",
       "1  BMW    1 Series  2011  premium unleaded (required)      300.0   \n",
       "2  BMW    1 Series  2011  premium unleaded (required)      300.0   \n",
       "3  BMW    1 Series  2011  premium unleaded (required)      230.0   \n",
       "4  BMW    1 Series  2011  premium unleaded (required)      230.0   \n",
       "\n",
       "   Engine Cylinders Transmission Type     Driven_Wheels  Number of Doors  \\\n",
       "0               6.0            MANUAL  rear wheel drive              2.0   \n",
       "1               6.0            MANUAL  rear wheel drive              2.0   \n",
       "2               6.0            MANUAL  rear wheel drive              2.0   \n",
       "3               6.0            MANUAL  rear wheel drive              2.0   \n",
       "4               6.0            MANUAL  rear wheel drive              2.0   \n",
       "\n",
       "                         Market Category Vehicle Size Vehicle Style  \\\n",
       "0  Factory Tuner,Luxury,High-Performance      Compact         Coupe   \n",
       "1                     Luxury,Performance      Compact   Convertible   \n",
       "2                Luxury,High-Performance      Compact         Coupe   \n",
       "3                     Luxury,Performance      Compact         Coupe   \n",
       "4                                 Luxury      Compact   Convertible   \n",
       "\n",
       "   highway MPG  city mpg  Popularity   MSRP  \n",
       "0           26        19        3916  46135  \n",
       "1           28        19        3916  40650  \n",
       "2           28        20        3916  36350  \n",
       "3           28        18        3916  29450  \n",
       "4           28        18        3916  34500  "
      ]
     },
     "execution_count": 53,
     "metadata": {},
     "output_type": "execute_result"
    }
   ],
   "source": [
    "df = pd.read_csv(\"hw.csv\")\n",
    "df.head()  #Getting the data"
   ]
  },
  {
   "cell_type": "code",
   "execution_count": 54,
   "id": "92074dcd",
   "metadata": {},
   "outputs": [
    {
     "data": {
      "text/plain": [
       "61546.76347305389"
      ]
     },
     "execution_count": 54,
     "metadata": {},
     "output_type": "execute_result"
    }
   ],
   "source": [
    " df[df['Make'] == 'BMW'].MSRP.mean()      # question 3"
   ]
  },
  {
   "cell_type": "code",
   "execution_count": 55,
   "id": "9c746856",
   "metadata": {},
   "outputs": [
    {
     "data": {
      "text/plain": [
       "Make                    0\n",
       "Model                   0\n",
       "Year                    0\n",
       "Engine Fuel Type        0\n",
       "Engine HP              51\n",
       "Engine Cylinders        8\n",
       "Transmission Type       0\n",
       "Driven_Wheels           0\n",
       "Number of Doors         5\n",
       "Market Category      1324\n",
       "Vehicle Size            0\n",
       "Vehicle Style           0\n",
       "highway MPG             0\n",
       "city mpg                0\n",
       "Popularity              0\n",
       "MSRP                    0\n",
       "dtype: int64"
      ]
     },
     "execution_count": 55,
     "metadata": {},
     "output_type": "execute_result"
    }
   ],
   "source": [
    "df [df['Year'] >= 2015].isnull().sum()  #df.isnull().sum()   51  question 4"
   ]
  },
  {
   "cell_type": "code",
   "execution_count": 56,
   "id": "44038ed4",
   "metadata": {},
   "outputs": [
    {
     "name": "stdout",
     "output_type": "stream",
     "text": [
      "249\n"
     ]
    }
   ],
   "source": [
    "#question 5 a)\n",
    "print(round(df['Engine HP'].mean()))                           "
   ]
  },
  {
   "cell_type": "code",
   "execution_count": 57,
   "id": "07702598",
   "metadata": {},
   "outputs": [],
   "source": [
    "#question 5 b)\n",
    "df['Engine HP'] = df['Engine HP'].fillna(df['Engine HP'].mean())\n"
   ]
  },
  {
   "cell_type": "code",
   "execution_count": 58,
   "id": "c567b5ad",
   "metadata": {},
   "outputs": [
    {
     "data": {
      "text/plain": [
       "249.38607007176023"
      ]
     },
     "execution_count": 58,
     "metadata": {},
     "output_type": "execute_result"
    }
   ],
   "source": [
    "#question 5 c)\n",
    "df['Engine HP'].mean()"
   ]
  },
  {
   "cell_type": "code",
   "execution_count": 59,
   "id": "8b130d49",
   "metadata": {},
   "outputs": [
    {
     "name": "stdout",
     "output_type": "stream",
     "text": [
      "249\n"
     ]
    }
   ],
   "source": [
    " print(round(df['Engine HP'].mean()))                           "
   ]
  },
  {
   "cell_type": "code",
   "execution_count": 60,
   "id": "a87e3cbf",
   "metadata": {},
   "outputs": [
    {
     "data": {
      "text/html": [
       "<div>\n",
       "<style scoped>\n",
       "    .dataframe tbody tr th:only-of-type {\n",
       "        vertical-align: middle;\n",
       "    }\n",
       "\n",
       "    .dataframe tbody tr th {\n",
       "        vertical-align: top;\n",
       "    }\n",
       "\n",
       "    .dataframe thead th {\n",
       "        text-align: right;\n",
       "    }\n",
       "</style>\n",
       "<table border=\"1\" class=\"dataframe\">\n",
       "  <thead>\n",
       "    <tr style=\"text-align: right;\">\n",
       "      <th></th>\n",
       "      <th>Engine HP</th>\n",
       "      <th>Engine Cylinders</th>\n",
       "      <th>highway MPG</th>\n",
       "    </tr>\n",
       "  </thead>\n",
       "  <tbody>\n",
       "    <tr>\n",
       "      <th>2921</th>\n",
       "      <td>325.0</td>\n",
       "      <td>8.0</td>\n",
       "      <td>15</td>\n",
       "    </tr>\n",
       "    <tr>\n",
       "      <th>3505</th>\n",
       "      <td>563.0</td>\n",
       "      <td>12.0</td>\n",
       "      <td>19</td>\n",
       "    </tr>\n",
       "    <tr>\n",
       "      <th>5275</th>\n",
       "      <td>563.0</td>\n",
       "      <td>12.0</td>\n",
       "      <td>21</td>\n",
       "    </tr>\n",
       "    <tr>\n",
       "      <th>5279</th>\n",
       "      <td>563.0</td>\n",
       "      <td>12.0</td>\n",
       "      <td>20</td>\n",
       "    </tr>\n",
       "    <tr>\n",
       "      <th>7443</th>\n",
       "      <td>322.0</td>\n",
       "      <td>12.0</td>\n",
       "      <td>15</td>\n",
       "    </tr>\n",
       "    <tr>\n",
       "      <th>7553</th>\n",
       "      <td>453.0</td>\n",
       "      <td>12.0</td>\n",
       "      <td>19</td>\n",
       "    </tr>\n",
       "    <tr>\n",
       "      <th>11448</th>\n",
       "      <td>624.0</td>\n",
       "      <td>12.0</td>\n",
       "      <td>21</td>\n",
       "    </tr>\n",
       "  </tbody>\n",
       "</table>\n",
       "</div>"
      ],
      "text/plain": [
       "       Engine HP  Engine Cylinders  highway MPG\n",
       "2921       325.0               8.0           15\n",
       "3505       563.0              12.0           19\n",
       "5275       563.0              12.0           21\n",
       "5279       563.0              12.0           20\n",
       "7443       322.0              12.0           15\n",
       "7553       453.0              12.0           19\n",
       "11448      624.0              12.0           21"
      ]
     },
     "execution_count": 60,
     "metadata": {},
     "output_type": "execute_result"
    }
   ],
   "source": [
    "rr = pd.DataFrame()\n",
    "rr =  df[df['Make'] == 'Rolls-Royce'][['Engine HP','Engine Cylinders', 'highway MPG']].drop_duplicates()     #question 6 a,b,c\n",
    "rr"
   ]
  },
  {
   "cell_type": "code",
   "execution_count": 61,
   "id": "31dd6554",
   "metadata": {},
   "outputs": [
    {
     "data": {
      "text/plain": [
       "array([[325.,   8.,  15.],\n",
       "       [563.,  12.,  19.],\n",
       "       [563.,  12.,  21.],\n",
       "       [563.,  12.,  20.],\n",
       "       [322.,  12.,  15.],\n",
       "       [453.,  12.,  19.],\n",
       "       [624.,  12.,  21.]])"
      ]
     },
     "execution_count": 61,
     "metadata": {},
     "output_type": "execute_result"
    }
   ],
   "source": [
    "X = np.array(rr)  #question 6 d\n",
    "X"
   ]
  },
  {
   "cell_type": "code",
   "execution_count": null,
   "id": "ba30aab7",
   "metadata": {},
   "outputs": [],
   "source": []
  },
  {
   "cell_type": "code",
   "execution_count": 62,
   "id": "1c7fd3df",
   "metadata": {},
   "outputs": [],
   "source": [
    "\n",
    "def matrix_matrix_multiplication(U, V):\n",
    "    assert U.shape[1] == V.shape[0]\n",
    "    \n",
    "    num_rows = U.shape[0]\n",
    "    num_cols = V.shape[1]\n",
    "    \n",
    "    result = np.zeros((num_rows, num_cols))\n",
    "    \n",
    "    for i in range(num_cols):\n",
    "        vi = V[:, i]\n",
    "        Uvi = matrix_vector_multiplication(U, vi)\n",
    "        result[:, i] = Uvi\n",
    "    \n",
    "    return result"
   ]
  },
  {
   "cell_type": "code",
   "execution_count": 63,
   "id": "283105fb",
   "metadata": {},
   "outputs": [],
   "source": [
    "def matrix_vector_multiplication(U, v):\n",
    "    assert U.shape[1] == v.shape[0]\n",
    "    \n",
    "    num_rows = U.shape[0]\n",
    "    \n",
    "    result = np.zeros(num_rows)\n",
    "    \n",
    "    for i in range(num_rows):\n",
    "        result[i] = vector_vector_multiplication(U[i], v)\n",
    "     \n",
    "    return result"
   ]
  },
  {
   "cell_type": "code",
   "execution_count": 64,
   "id": "d87c41f0",
   "metadata": {},
   "outputs": [],
   "source": [
    "def vector_vector_multiplication(u, v):\n",
    "    assert u.shape[0] == v.shape[0]\n",
    "    \n",
    "    n = u.shape[0]\n",
    "    \n",
    "    result = 0.0\n",
    "\n",
    "    for i in range(n):\n",
    "        result = result + u[i] * v[i]\n",
    "    \n",
    "    return result"
   ]
  },
  {
   "cell_type": "code",
   "execution_count": 65,
   "id": "de105a17",
   "metadata": {},
   "outputs": [
    {
     "data": {
      "text/plain": [
       "array([[325.,   8.,  15.],\n",
       "       [563.,  12.,  19.],\n",
       "       [563.,  12.,  21.],\n",
       "       [563.,  12.,  20.],\n",
       "       [322.,  12.,  15.],\n",
       "       [453.,  12.,  19.],\n",
       "       [624.,  12.,  21.]])"
      ]
     },
     "execution_count": 65,
     "metadata": {},
     "output_type": "execute_result"
    }
   ],
   "source": [
    "X"
   ]
  },
  {
   "cell_type": "code",
   "execution_count": 78,
   "id": "909fb153",
   "metadata": {},
   "outputs": [
    {
     "data": {
      "text/plain": [
       "array([[105914., 183356., 183386., 183371., 104971., 147606., 203211.],\n",
       "       [183356., 317474., 317512., 317493., 181715., 255544., 351855.],\n",
       "       [183386., 317512., 317554., 317533., 181745., 255582., 351897.],\n",
       "       [183371., 317493., 317533., 317513., 181730., 255563., 351876.],\n",
       "       [104971., 181715., 181745., 181730., 104053., 146295., 201387.],\n",
       "       [147606., 255544., 255582., 255563., 146295., 205714., 283215.],\n",
       "       [203211., 351855., 351897., 351876., 201387., 283215., 389961.]])"
      ]
     },
     "execution_count": 78,
     "metadata": {},
     "output_type": "execute_result"
    }
   ],
   "source": [
    "XTtranspose  = X.T #6E\n",
    "XTX = matrix_matrix_multiplication(X, X.T)\n",
    "XTX\n",
    "# stop hereXT"
   ]
  },
  {
   "cell_type": "code",
   "execution_count": 87,
   "id": "a55fe519",
   "metadata": {},
   "outputs": [
    {
     "data": {
      "text/plain": [
       "array([[325., 563., 563., 563., 322., 453., 624.],\n",
       "       [  8.,  12.,  12.,  12.,  12.,  12.,  12.],\n",
       "       [ 15.,  19.,  21.,  20.,  15.,  19.,  21.]])"
      ]
     },
     "execution_count": 87,
     "metadata": {},
     "output_type": "execute_result"
    }
   ],
   "source": [
    "XTtranspose"
   ]
  },
  {
   "cell_type": "code",
   "execution_count": 68,
   "id": "0a771025",
   "metadata": {},
   "outputs": [
    {
     "data": {
      "text/plain": [
       "array([[325.,   8.,  15.],\n",
       "       [563.,  12.,  19.],\n",
       "       [563.,  12.,  21.],\n",
       "       [563.,  12.,  20.],\n",
       "       [322.,  12.,  15.],\n",
       "       [453.,  12.,  19.],\n",
       "       [624.,  12.,  21.]])"
      ]
     },
     "execution_count": 68,
     "metadata": {},
     "output_type": "execute_result"
    }
   ],
   "source": [
    "X"
   ]
  },
  {
   "cell_type": "code",
   "execution_count": 81,
   "id": "32713b5e",
   "metadata": {},
   "outputs": [
    {
     "data": {
      "text/plain": [
       "array([[105914., 183356., 183386., 183371., 104971., 147606., 203211.],\n",
       "       [183356., 317474., 317512., 317493., 181715., 255544., 351855.],\n",
       "       [183386., 317512., 317554., 317533., 181745., 255582., 351897.],\n",
       "       [183371., 317493., 317533., 317513., 181730., 255563., 351876.],\n",
       "       [104971., 181715., 181745., 181730., 104053., 146295., 201387.],\n",
       "       [147606., 255544., 255582., 255563., 146295., 205714., 283215.],\n",
       "       [203211., 351855., 351897., 351876., 201387., 283215., 389961.]])"
      ]
     },
     "execution_count": 81,
     "metadata": {},
     "output_type": "execute_result"
    }
   ],
   "source": [
    "VS = XTX[[0,1,2,3,4,5,6]]\n",
    "VS\n",
    "#invd = np.linalg.inv(X)\n",
    "#invd\n",
    "#print(np.eye(3))\n",
    "#VS =X[[0,1,2]]\n",
    "VS"
   ]
  },
  {
   "cell_type": "code",
   "execution_count": 80,
   "id": "ec8e1e2b",
   "metadata": {},
   "outputs": [
    {
     "data": {
      "text/plain": [
       "array([[1., 0., 0., 0., 0., 0., 0.],\n",
       "       [0., 1., 0., 0., 0., 0., 0.],\n",
       "       [0., 0., 1., 0., 0., 0., 0.],\n",
       "       [0., 0., 0., 1., 0., 0., 0.],\n",
       "       [0., 0., 0., 0., 1., 0., 0.],\n",
       "       [0., 0., 0., 0., 0., 1., 0.],\n",
       "       [0., 0., 0., 0., 0., 0., 1.]])"
      ]
     },
     "execution_count": 80,
     "metadata": {},
     "output_type": "execute_result"
    }
   ],
   "source": [
    "I = np.eye(7)\n",
    "I"
   ]
  },
  {
   "cell_type": "code",
   "execution_count": 83,
   "id": "a86db4a0",
   "metadata": {},
   "outputs": [
    {
     "data": {
      "text/plain": [
       "array([[105914., 183356., 183386., 183371., 104971., 147606., 203211.],\n",
       "       [183356., 317474., 317512., 317493., 181715., 255544., 351855.],\n",
       "       [183386., 317512., 317554., 317533., 181745., 255582., 351897.],\n",
       "       [183371., 317493., 317533., 317513., 181730., 255563., 351876.],\n",
       "       [104971., 181715., 181745., 181730., 104053., 146295., 201387.],\n",
       "       [147606., 255544., 255582., 255563., 146295., 205714., 283215.],\n",
       "       [203211., 351855., 351897., 351876., 201387., 283215., 389961.]])"
      ]
     },
     "execution_count": 83,
     "metadata": {},
     "output_type": "execute_result"
    }
   ],
   "source": [
    "XTXI = np.linalg.inv(XTX)\n",
    "XTXI\n",
    "#print(np.eye(3))\n",
    "#VS =X[[0,1,2]]\n",
    "VS"
   ]
  },
  {
   "cell_type": "code",
   "execution_count": 84,
   "id": "bf4776ba",
   "metadata": {},
   "outputs": [
    {
     "data": {
      "text/plain": [
       "array([[105914., 183356., 183386., 183371., 104971., 147606., 203211.],\n",
       "       [183356., 317474., 317512., 317493., 181715., 255544., 351855.],\n",
       "       [183386., 317512., 317554., 317533., 181745., 255582., 351897.],\n",
       "       [183371., 317493., 317533., 317513., 181730., 255563., 351876.],\n",
       "       [104971., 181715., 181745., 181730., 104053., 146295., 201387.],\n",
       "       [147606., 255544., 255582., 255563., 146295., 205714., 283215.],\n",
       "       [203211., 351855., 351897., 351876., 201387., 283215., 389961.]])"
      ]
     },
     "execution_count": 84,
     "metadata": {},
     "output_type": "execute_result"
    }
   ],
   "source": [
    "XTX"
   ]
  },
  {
   "cell_type": "code",
   "execution_count": 85,
   "id": "22f82b77",
   "metadata": {
    "scrolled": true
   },
   "outputs": [
    {
     "data": {
      "text/plain": [
       "array([[ 0.57426071,  1.22481155, -1.07983017, -0.44962311,  0.11635017,\n",
       "         0.        ,  0.07287598],\n",
       "       [-0.74640274,  0.65777969, -1.19269943,  0.68444061,  0.47171974,\n",
       "         0.        , -0.15026855],\n",
       "       [ 0.48373795,  0.65761948, -0.67049026, -1.31523895,  0.05798912,\n",
       "         0.        ,  4.33679199],\n",
       "       [ 0.6186676 ,  0.65769958,  0.06840515, -1.31539917, -1.23514557,\n",
       "         0.        , -3.40673828],\n",
       "       [-0.2061348 ,  0.23176956, -0.90148544, -0.46353912,  0.76265144,\n",
       "         0.        ,  1.42053223],\n",
       "       [-0.21918106, -1.08037949, -0.06025314, -0.83924103, -0.08852196,\n",
       "         0.        ,  0.8536377 ],\n",
       "       [-1.58590317,  0.51241684, -1.97121048, -1.02483368,  0.81412315,\n",
       "         0.        ,  1.75280762]])"
      ]
     },
     "execution_count": 85,
     "metadata": {},
     "output_type": "execute_result"
    }
   ],
   "source": [
    "XTX.dot(XTXI)"
   ]
  },
  {
   "cell_type": "code",
   "execution_count": 96,
   "id": "538f9871",
   "metadata": {},
   "outputs": [
    {
     "data": {
      "text/plain": [
       "-1570497826.622116"
      ]
     },
     "execution_count": 96,
     "metadata": {},
     "output_type": "execute_result"
    }
   ],
   "source": [
    "sum = np.sum(XTXI)\n",
    "sum"
   ]
  },
  {
   "cell_type": "code",
   "execution_count": 86,
   "id": "e9532176",
   "metadata": {},
   "outputs": [
    {
     "data": {
      "text/plain": [
       "array([1000, 1100,  900, 1200, 1000,  850, 1300])"
      ]
     },
     "execution_count": 86,
     "metadata": {},
     "output_type": "execute_result"
    }
   ],
   "source": [
    "#question 7 \n",
    "y =np.array([1000, 1100, 900, 1200, 1000, 850, 1300])\n",
    "y"
   ]
  },
  {
   "cell_type": "code",
   "execution_count": 90,
   "id": "23a90b63",
   "metadata": {},
   "outputs": [
    {
     "data": {
      "text/plain": [
       "array([[-0.00976562,  0.0078125 ,  0.00390625,  0.        , -0.00585938,\n",
       "         0.        , -0.00976562],\n",
       "       [-0.23814392,  0.0791626 , -0.04260254,  0.0345459 ,  0.20599365,\n",
       "         0.04174805, -0.07678223],\n",
       "       [ 0.41012573, -0.19488525, -0.12512207, -0.09637451,  0.01449585,\n",
       "        -0.09545898,  0.22399902]])"
      ]
     },
     "execution_count": 90,
     "metadata": {},
     "output_type": "execute_result"
    }
   ],
   "source": [
    "newval = matrix_matrix_multiplication(XTtranspose,XTXI) # multiply inverseXTX by Xt\n",
    "newval"
   ]
  },
  {
   "cell_type": "code",
   "execution_count": 91,
   "id": "cd5f7981",
   "metadata": {},
   "outputs": [],
   "source": [
    "W = newval.dot(y)"
   ]
  },
  {
   "cell_type": "code",
   "execution_count": 92,
   "id": "3d41f8ff",
   "metadata": {},
   "outputs": [
    {
     "data": {
      "text/plain": [
       "array([-16.2109375 ,  -6.28967285, 192.04711914])"
      ]
     },
     "execution_count": 92,
     "metadata": {},
     "output_type": "execute_result"
    }
   ],
   "source": [
    "W\n"
   ]
  },
  {
   "cell_type": "code",
   "execution_count": 95,
   "id": "bd48bfed",
   "metadata": {},
   "outputs": [
    {
     "data": {
      "text/plain": [
       "array([-16.2109375 ,  -6.28967285, 192.04711914])"
      ]
     },
     "execution_count": 95,
     "metadata": {},
     "output_type": "execute_result"
    }
   ],
   "source": [
    "W\n"
   ]
  },
  {
   "cell_type": "code",
   "execution_count": null,
   "id": "7ba9470e",
   "metadata": {},
   "outputs": [],
   "source": []
  }
 ],
 "metadata": {
  "kernelspec": {
   "display_name": "Python 3 (ipykernel)",
   "language": "python",
   "name": "python3"
  },
  "language_info": {
   "codemirror_mode": {
    "name": "ipython",
    "version": 3
   },
   "file_extension": ".py",
   "mimetype": "text/x-python",
   "name": "python",
   "nbconvert_exporter": "python",
   "pygments_lexer": "ipython3",
   "version": "3.8.7"
  }
 },
 "nbformat": 4,
 "nbformat_minor": 5
}
